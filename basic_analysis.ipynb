{
 "cells": [
  {
   "attachments": {},
   "cell_type": "markdown",
   "metadata": {
    "pycharm": {
     "name": "#%% md\n"
    }
   },
   "source": [
    "# Initial analysis of the data\n",
    "\n",
    "Dataset: [Spotify and Youtube](https://www.kaggle.com/datasets/salvatorerastelli/spotify-and-youtube?resource=download)"
   ]
  },
  {
   "cell_type": "code",
   "execution_count": 1,
   "metadata": {
    "pycharm": {
     "name": "#%%\n"
    }
   },
   "outputs": [],
   "source": [
    "import pandas as pd\n",
    "import numpy as np"
   ]
  },
  {
   "cell_type": "code",
   "execution_count": 2,
   "metadata": {
    "collapsed": false,
    "pycharm": {
     "name": "#%%\n"
    }
   },
   "outputs": [],
   "source": [
    "# Create pandas dataframe from csv file\n",
    "df = pd.read_csv('source_dataset/Spotify_Youtube.csv')"
   ]
  },
  {
   "cell_type": "code",
   "execution_count": 3,
   "metadata": {
    "collapsed": false,
    "pycharm": {
     "name": "#%%\n"
    }
   },
   "outputs": [
    {
     "name": "stdout",
     "output_type": "stream",
     "text": [
      "(20718, 28)\n"
     ]
    }
   ],
   "source": [
    "# Shape of dataframe\n",
    "print(df.shape)"
   ]
  },
  {
   "cell_type": "code",
   "execution_count": 4,
   "metadata": {
    "collapsed": false,
    "pycharm": {
     "name": "#%%\n"
    }
   },
   "outputs": [],
   "source": [
    "# Convert Unamed column to index and rename to 'id'\n",
    "df = df.rename(columns={'Unnamed: 0': 'id'})\n",
    "df = df.set_index('id')"
   ]
  },
  {
   "cell_type": "code",
   "execution_count": 5,
   "metadata": {
    "collapsed": false,
    "pycharm": {
     "name": "#%%\n"
    }
   },
   "outputs": [
    {
     "name": "stdout",
     "output_type": "stream",
     "text": [
      "\n",
      "Column names:\n",
      "Index(['Artist', 'Url_spotify', 'Track', 'Album', 'Album_type', 'Uri',\n",
      "       'Danceability', 'Energy', 'Key', 'Loudness', 'Speechiness',\n",
      "       'Acousticness', 'Instrumentalness', 'Liveness', 'Valence', 'Tempo',\n",
      "       'Duration_ms', 'Url_youtube', 'Title', 'Channel', 'Views', 'Likes',\n",
      "       'Comments', 'Description', 'Licensed', 'official_video', 'Stream'],\n",
      "      dtype='object')\n"
     ]
    }
   ],
   "source": [
    "# Display the column names\n",
    "print(\"\\nColumn names:\")\n",
    "print(df.columns)"
   ]
  },
  {
   "cell_type": "code",
   "execution_count": null,
   "metadata": {
    "collapsed": false,
    "pycharm": {
     "name": "#%%\n"
    }
   },
   "outputs": [],
   "source": [
    "# Display the first 5 rows\n",
    "print(\"\\nFirst 5 rows:\")\n",
    "print(df.head())"
   ]
  },
  {
   "cell_type": "code",
   "execution_count": 6,
   "metadata": {
    "collapsed": false,
    "pycharm": {
     "name": "#%%\n"
    }
   },
   "outputs": [
    {
     "name": "stdout",
     "output_type": "stream",
     "text": [
      "\n",
      "Data types:\n",
      "Artist               object\n",
      "Url_spotify          object\n",
      "Track                object\n",
      "Album                object\n",
      "Album_type           object\n",
      "Uri                  object\n",
      "Danceability        float64\n",
      "Energy              float64\n",
      "Key                 float64\n",
      "Loudness            float64\n",
      "Speechiness         float64\n",
      "Acousticness        float64\n",
      "Instrumentalness    float64\n",
      "Liveness            float64\n",
      "Valence             float64\n",
      "Tempo               float64\n",
      "Duration_ms         float64\n",
      "Url_youtube          object\n",
      "Title                object\n",
      "Channel              object\n",
      "Views               float64\n",
      "Likes               float64\n",
      "Comments            float64\n",
      "Description          object\n",
      "Licensed             object\n",
      "official_video       object\n",
      "Stream              float64\n",
      "dtype: object\n"
     ]
    }
   ],
   "source": [
    "# Display the data types of each column\n",
    "print(\"\\nData types:\")\n",
    "print(df.dtypes)"
   ]
  },
  {
   "cell_type": "code",
   "execution_count": 7,
   "metadata": {
    "collapsed": false,
    "pycharm": {
     "name": "#%%\n"
    }
   },
   "outputs": [
    {
     "name": "stdout",
     "output_type": "stream",
     "text": [
      "\n",
      "Number of unique values:\n",
      "Artist               2079\n",
      "Url_spotify          2079\n",
      "Track               17841\n",
      "Album               11937\n",
      "Album_type              3\n",
      "Uri                 18862\n",
      "Danceability          898\n",
      "Energy               1268\n",
      "Key                    12\n",
      "Loudness             9417\n",
      "Speechiness          1303\n",
      "Acousticness         3138\n",
      "Instrumentalness     4012\n",
      "Liveness             1536\n",
      "Valence              1293\n",
      "Tempo               15024\n",
      "Duration_ms         14690\n",
      "Url_youtube         18154\n",
      "Title               18146\n",
      "Channel              6714\n",
      "Views               19245\n",
      "Likes               17939\n",
      "Comments            10485\n",
      "Description         17395\n",
      "Licensed                2\n",
      "official_video          2\n",
      "Stream              18461\n",
      "dtype: int64\n"
     ]
    }
   ],
   "source": [
    "print(\"\\nNumber of unique values:\")\n",
    "print(df.nunique())\n",
    "# Drop rows with missing values in 'Likes' or 'Views' columns\n",
    "df = df.dropna(subset=['Likes', 'Views'])"
   ]
  },
  {
   "attachments": {},
   "cell_type": "markdown",
   "metadata": {
    "collapsed": false,
    "pycharm": {
     "name": "#%% md\n"
    }
   },
   "source": [
    "Create popularity categories"
   ]
  },
  {
   "cell_type": "code",
   "execution_count": null,
   "metadata": {
    "collapsed": false,
    "pycharm": {
     "name": "#%%\n"
    }
   },
   "outputs": [],
   "source": [
    "\n",
    "# Drop rows with missing values in 'Likes' or 'Views' columns\n",
    "df = df.dropna(subset=['Likes', 'Views'])\n",
    "\n",
    "# Calculate normalized popularity score\n",
    "normalized_likes = (df['Likes'] - df['Likes'].min()) / (df['Likes'].max() - df['Likes'].min())\n",
    "normalized_views = (df['Views'] - df['Views'].min()) / (df['Views'].max() - df['Views'].min())\n",
    "\n",
    "# Assign weights to normalized likes and views\n",
    "likes_weight = 0.7\n",
    "views_weight = 0.3\n",
    "\n",
    "# Calculate popularity score\n",
    "popularity_score = (normalized_likes * likes_weight) + (normalized_views * views_weight)\n",
    "\n",
    "# Define popularity class thresholds\n",
    "popularity_thresholds = np.percentile(popularity_score, [0, 30, 70, 90])\n",
    "\n",
    "# Assign popularity class based on popularity score\n",
    "popularity_labels = ['Low Popularity', 'Moderate Popularity', 'High Popularity', 'Very High Popularity']\n",
    "popularity = np.select(\n",
    "    [popularity_score <= popularity_thresholds[1],\n",
    "     popularity_score <= popularity_thresholds[2],\n",
    "     popularity_score <= popularity_thresholds[3],\n",
    "     popularity_score > popularity_thresholds[3]],\n",
    "    popularity_labels, default=popularity_labels[-1])\n",
    "\n",
    "# Add new columns to the DataFrame\n",
    "df['Popularity Score'] = popularity_score\n",
    "df['Popularity'] = popularity"
   ]
  },
  {
   "cell_type": "code",
   "execution_count": null,
   "metadata": {
    "collapsed": false,
    "pycharm": {
     "name": "#%%\n"
    }
   },
   "outputs": [],
   "source": [
    "# Display the data types of each column\n",
    "print(\"\\nData types:\")\n",
    "print(df.dtypes)"
   ]
  },
  {
   "cell_type": "code",
   "execution_count": null,
   "metadata": {
    "collapsed": false,
    "pycharm": {
     "name": "#%%\n"
    }
   },
   "outputs": [],
   "source": [
    "print(df['Popularity'].value_counts())"
   ]
  },
  {
   "cell_type": "code",
   "execution_count": null,
   "metadata": {
    "collapsed": false,
    "pycharm": {
     "name": "#%%\n"
    }
   },
   "outputs": [],
   "source": [
    "# Download the dataframe as a csv file\n",
    "df.to_csv('datasets/Spotify_YoutubeClean.csv')"
   ]
  }
 ],
 "metadata": {
  "kernelspec": {
   "display_name": "Python 3 (ipykernel)",
   "language": "python",
   "name": "python3"
  },
  "language_info": {
   "codemirror_mode": {
    "name": "ipython",
    "version": 3
   },
   "file_extension": ".py",
   "mimetype": "text/x-python",
   "name": "python",
   "nbconvert_exporter": "python",
   "pygments_lexer": "ipython3",
   "version": "3.10.6"
  }
 },
 "nbformat": 4,
 "nbformat_minor": 2
}
