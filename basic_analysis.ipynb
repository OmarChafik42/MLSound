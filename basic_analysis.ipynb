{
 "cells": [
  {
   "cell_type": "markdown",
   "metadata": {
    "pycharm": {
     "name": "#%% md\n"
    }
   },
   "source": [
    "# Initial analysis of the data\n",
    "\n",
    "Dataset: [Spotify and Youtube](https://www.kaggle.com/datasets/salvatorerastelli/spotify-and-youtube?resource=download)"
   ]
  },
  {
   "cell_type": "code",
   "execution_count": 12,
   "metadata": {
    "pycharm": {
     "name": "#%%\n"
    }
   },
   "outputs": [],
   "source": [
    "import pandas as pd\n",
    "import numpy as np"
   ]
  },
  {
   "cell_type": "code",
   "execution_count": 13,
   "metadata": {
    "pycharm": {
     "name": "#%%\n"
    }
   },
   "outputs": [],
   "source": [
    "# Create pandas dataframe from csv file\n",
    "df = pd.read_csv('archive/Spotify_Youtube.csv')"
   ]
  },
  {
   "cell_type": "code",
   "execution_count": 14,
   "metadata": {
    "pycharm": {
     "name": "#%%\n"
    }
   },
   "outputs": [
    {
     "name": "stdout",
     "output_type": "stream",
     "text": [
      "(20718, 28)\n"
     ]
    }
   ],
   "source": [
    "# Shape of dataframe\n",
    "print(df.shape)"
   ]
  },
  {
   "cell_type": "code",
   "execution_count": 15,
   "metadata": {
    "pycharm": {
     "name": "#%%\n"
    }
   },
   "outputs": [],
   "source": [
    "# Convert Unamed column to index and rename to 'id'\n",
    "df = df.rename(columns={'Unnamed: 0': 'id'})\n",
    "df = df.set_index('id')"
   ]
  },
  {
   "cell_type": "code",
   "execution_count": 5,
   "metadata": {
    "pycharm": {
     "name": "#%%\n"
    }
   },
   "outputs": [
    {
     "name": "stdout",
     "output_type": "stream",
     "text": [
      "\n",
      "Column names:\n",
      "Index(['Artist', 'Url_spotify', 'Track', 'Album', 'Album_type', 'Uri',\n",
      "       'Danceability', 'Energy', 'Key', 'Loudness', 'Speechiness',\n",
      "       'Acousticness', 'Instrumentalness', 'Liveness', 'Valence', 'Tempo',\n",
      "       'Duration_ms', 'Url_youtube', 'Title', 'Channel', 'Views', 'Likes',\n",
      "       'Comments', 'Description', 'Licensed', 'official_video', 'Stream'],\n",
      "      dtype='object')\n"
     ]
    }
   ],
   "source": [
    "# Display the column names\n",
    "print(\"\\nColumn names:\")\n",
    "print(df.columns)"
   ]
  },
  {
   "cell_type": "code",
   "execution_count": 6,
   "metadata": {
    "pycharm": {
     "name": "#%%\n"
    }
   },
   "outputs": [
    {
     "name": "stdout",
     "output_type": "stream",
     "text": [
      "\n",
      "First 5 rows:\n",
      "      Artist                                        Url_spotify  \\\n",
      "id                                                                \n",
      "0   Gorillaz  https://open.spotify.com/artist/3AA28KZvwAUcZu...   \n",
      "1   Gorillaz  https://open.spotify.com/artist/3AA28KZvwAUcZu...   \n",
      "2   Gorillaz  https://open.spotify.com/artist/3AA28KZvwAUcZu...   \n",
      "3   Gorillaz  https://open.spotify.com/artist/3AA28KZvwAUcZu...   \n",
      "4   Gorillaz  https://open.spotify.com/artist/3AA28KZvwAUcZu...   \n",
      "\n",
      "                                            Track  \\\n",
      "id                                                  \n",
      "0                                  Feel Good Inc.   \n",
      "1                                 Rhinestone Eyes   \n",
      "2   New Gold (feat. Tame Impala and Bootie Brown)   \n",
      "3                              On Melancholy Hill   \n",
      "4                                  Clint Eastwood   \n",
      "\n",
      "                                            Album Album_type  \\\n",
      "id                                                             \n",
      "0                                      Demon Days      album   \n",
      "1                                   Plastic Beach      album   \n",
      "2   New Gold (feat. Tame Impala and Bootie Brown)     single   \n",
      "3                                   Plastic Beach      album   \n",
      "4                                        Gorillaz      album   \n",
      "\n",
      "                                     Uri  Danceability  Energy   Key  \\\n",
      "id                                                                     \n",
      "0   spotify:track:0d28khcov6AiegSCpG5TuT         0.818   0.705   6.0   \n",
      "1   spotify:track:1foMv2HQwfQ2vntFf9HFeG         0.676   0.703   8.0   \n",
      "2   spotify:track:64dLd6rVqDLtkXFYrEUHIU         0.695   0.923   1.0   \n",
      "3   spotify:track:0q6LuUqGLUiCPP1cbdwFs3         0.689   0.739   2.0   \n",
      "4   spotify:track:7yMiX7n9SBvadzox8T5jzT         0.663   0.694  10.0   \n",
      "\n",
      "    Loudness  ...                                  Url_youtube  \\\n",
      "id            ...                                                \n",
      "0     -6.679  ...  https://www.youtube.com/watch?v=HyHNuVaZJ-k   \n",
      "1     -5.815  ...  https://www.youtube.com/watch?v=yYDmaexVHic   \n",
      "2     -3.930  ...  https://www.youtube.com/watch?v=qJa-VFwPpYA   \n",
      "3     -5.810  ...  https://www.youtube.com/watch?v=04mfKJWDSzI   \n",
      "4     -8.627  ...  https://www.youtube.com/watch?v=1V_xRb0x9aw   \n",
      "\n",
      "                                                Title   Channel        Views  \\\n",
      "id                                                                             \n",
      "0          Gorillaz - Feel Good Inc. (Official Video)  Gorillaz  693555221.0   \n",
      "1   Gorillaz - Rhinestone Eyes [Storyboard Film] (...  Gorillaz   72011645.0   \n",
      "2   Gorillaz - New Gold ft. Tame Impala & Bootie B...  Gorillaz    8435055.0   \n",
      "3      Gorillaz - On Melancholy Hill (Official Video)  Gorillaz  211754952.0   \n",
      "4          Gorillaz - Clint Eastwood (Official Video)  Gorillaz  618480958.0   \n",
      "\n",
      "        Likes  Comments                                        Description  \\\n",
      "id                                                                           \n",
      "0   6220896.0  169907.0  Official HD Video for Gorillaz' fantastic trac...   \n",
      "1   1079128.0   31003.0  The official video for Gorillaz - Rhinestone E...   \n",
      "2    282142.0    7399.0  Gorillaz - New Gold ft. Tame Impala & Bootie B...   \n",
      "3   1788577.0   55229.0  Follow Gorillaz online:\\nhttp://gorillaz.com \\...   \n",
      "4   6197318.0  155930.0  The official music video for Gorillaz - Clint ...   \n",
      "\n",
      "   Licensed official_video        Stream  \n",
      "id                                        \n",
      "0      True           True  1.040235e+09  \n",
      "1      True           True  3.100837e+08  \n",
      "2      True           True  6.306347e+07  \n",
      "3      True           True  4.346636e+08  \n",
      "4      True           True  6.172597e+08  \n",
      "\n",
      "[5 rows x 27 columns]\n"
     ]
    }
   ],
   "source": [
    "# Display the first 5 rows\n",
    "print(\"\\nFirst 5 rows:\")\n",
    "print(df.head())"
   ]
  },
  {
   "cell_type": "code",
   "execution_count": 7,
   "metadata": {
    "pycharm": {
     "name": "#%%\n"
    }
   },
   "outputs": [
    {
     "name": "stdout",
     "output_type": "stream",
     "text": [
      "\n",
      "Data types:\n",
      "Artist               object\n",
      "Url_spotify          object\n",
      "Track                object\n",
      "Album                object\n",
      "Album_type           object\n",
      "Uri                  object\n",
      "Danceability        float64\n",
      "Energy              float64\n",
      "Key                 float64\n",
      "Loudness            float64\n",
      "Speechiness         float64\n",
      "Acousticness        float64\n",
      "Instrumentalness    float64\n",
      "Liveness            float64\n",
      "Valence             float64\n",
      "Tempo               float64\n",
      "Duration_ms         float64\n",
      "Url_youtube          object\n",
      "Title                object\n",
      "Channel              object\n",
      "Views               float64\n",
      "Likes               float64\n",
      "Comments            float64\n",
      "Description          object\n",
      "Licensed             object\n",
      "official_video       object\n",
      "Stream              float64\n",
      "dtype: object\n"
     ]
    }
   ],
   "source": [
    "# Display the data types of each column\n",
    "print(\"\\nData types:\")\n",
    "print(df.dtypes)"
   ]
  },
  {
   "cell_type": "code",
   "execution_count": 16,
   "metadata": {
    "pycharm": {
     "name": "#%%\n"
    }
   },
   "outputs": [
    {
     "name": "stdout",
     "output_type": "stream",
     "text": [
      "\n",
      "Number of unique values:\n",
      "Artist               2079\n",
      "Url_spotify          2079\n",
      "Track               17841\n",
      "Album               11937\n",
      "Album_type              3\n",
      "Uri                 18862\n",
      "Danceability          898\n",
      "Energy               1268\n",
      "Key                    12\n",
      "Loudness             9417\n",
      "Speechiness          1303\n",
      "Acousticness         3138\n",
      "Instrumentalness     4012\n",
      "Liveness             1536\n",
      "Valence              1293\n",
      "Tempo               15024\n",
      "Duration_ms         14690\n",
      "Url_youtube         18154\n",
      "Title               18146\n",
      "Channel              6714\n",
      "Views               19245\n",
      "Likes               17939\n",
      "Comments            10485\n",
      "Description         17395\n",
      "Licensed                2\n",
      "official_video          2\n",
      "Stream              18461\n",
      "dtype: int64\n"
     ]
    }
   ],
   "source": [
    "print(\"\\nNumber of unique values:\")\n",
    "print(df.nunique())\n",
    "# Drop rows with missing values in 'Likes' or 'Views' columns\n",
    "df = df.dropna(subset=['Likes', 'Views'])"
   ]
  },
  {
   "cell_type": "markdown",
   "metadata": {
    "pycharm": {
     "name": "#%% md\n"
    }
   },
   "source": [
    "Create popularity categories"
   ]
  },
  {
   "cell_type": "code",
   "execution_count": 9,
   "metadata": {
    "pycharm": {
     "name": "#%%\n"
    }
   },
   "outputs": [],
   "source": [
    "\n",
    "# Drop rows with missing values in 'Likes' or 'Views' columns\n",
    "df = df.dropna(subset=['Likes', 'Views'])\n",
    "\n",
    "# Calculate normalized popularity score\n",
    "normalized_likes = (df['Likes'] - df['Likes'].min()) / (df['Likes'].max() - df['Likes'].min())\n",
    "normalized_views = (df['Views'] - df['Views'].min()) / (df['Views'].max() - df['Views'].min())\n",
    "\n",
    "# Assign weights to normalized likes and views\n",
    "likes_weight = 0.7\n",
    "views_weight = 0.3\n",
    "\n",
    "# Calculate popularity score\n",
    "popularity_score = (normalized_likes * likes_weight) + (normalized_views * views_weight)\n",
    "\n",
    "# Define popularity class thresholds\n",
    "popularity_thresholds = np.percentile(popularity_score, [0, 30, 70, 90])\n",
    "\n",
    "# Assign popularity class based on popularity score\n",
    "popularity_labels = ['Not popular', 'Regular', 'Popular', 'Very popular']\n",
    "popularity = np.select(\n",
    "    [popularity_score <= popularity_thresholds[1],\n",
    "     popularity_score <= popularity_thresholds[2],\n",
    "     popularity_score <= popularity_thresholds[3],\n",
    "     popularity_score > popularity_thresholds[3]],\n",
    "    popularity_labels, default=popularity_labels[-1])\n",
    "\n",
    "# Add new columns to the DataFrame\n",
    "df['Popularity Score'] = popularity_score\n",
    "df['Popularity'] = popularity"
   ]
  },
  {
   "cell_type": "code",
   "execution_count": 10,
   "metadata": {
    "pycharm": {
     "name": "#%%\n"
    }
   },
   "outputs": [
    {
     "name": "stdout",
     "output_type": "stream",
     "text": [
      "\n",
      "Data types:\n",
      "Artist               object\n",
      "Url_spotify          object\n",
      "Track                object\n",
      "Album                object\n",
      "Album_type           object\n",
      "Uri                  object\n",
      "Danceability        float64\n",
      "Energy              float64\n",
      "Key                 float64\n",
      "Loudness            float64\n",
      "Speechiness         float64\n",
      "Acousticness        float64\n",
      "Instrumentalness    float64\n",
      "Liveness            float64\n",
      "Valence             float64\n",
      "Tempo               float64\n",
      "Duration_ms         float64\n",
      "Url_youtube          object\n",
      "Title                object\n",
      "Channel              object\n",
      "Views               float64\n",
      "Likes               float64\n",
      "Comments            float64\n",
      "Description          object\n",
      "Licensed             object\n",
      "official_video       object\n",
      "Stream              float64\n",
      "Popularity Score    float64\n",
      "Popularity           object\n",
      "dtype: object\n"
     ]
    }
   ],
   "source": [
    "# Display the data types of each column\n",
    "print(\"\\nData types:\")\n",
    "print(df.dtypes)"
   ]
  },
  {
   "cell_type": "code",
   "execution_count": 11,
   "metadata": {
    "pycharm": {
     "name": "#%%\n"
    }
   },
   "outputs": [
    {
     "name": "stdout",
     "output_type": "stream",
     "text": [
      "Regular         8071\n",
      "Not popular     6053\n",
      "Popular         4035\n",
      "Very popular    2018\n",
      "Name: Popularity, dtype: int64\n"
     ]
    }
   ],
   "source": [
    "print(df['Popularity'].value_counts())"
   ]
  }
 ],
 "metadata": {
  "kernelspec": {
   "display_name": "Python 3 (ipykernel)",
   "language": "python",
   "name": "python3"
  },
  "language_info": {
   "codemirror_mode": {
    "name": "ipython",
    "version": 3
   },
   "file_extension": ".py",
   "mimetype": "text/x-python",
   "name": "python",
   "nbconvert_exporter": "python",
   "pygments_lexer": "ipython3",
   "version": "3.9.16"
  }
 },
 "nbformat": 4,
 "nbformat_minor": 2
}