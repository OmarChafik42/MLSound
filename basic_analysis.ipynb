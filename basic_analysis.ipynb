{
 "cells": [
  {
   "attachments": {},
   "cell_type": "markdown",
   "metadata": {
    "pycharm": {
     "name": "#%% md\n"
    }
   },
   "source": [
    "# Initial analysis of the data\n",
    "\n",
    "Dataset: [Spotify and Youtube](https://www.kaggle.com/datasets/salvatorerastelli/spotify-and-youtube?resource=download)"
   ]
  },
  {
   "cell_type": "code",
   "execution_count": 13,
   "metadata": {
    "pycharm": {
     "name": "#%%\n"
    }
   },
   "outputs": [],
   "source": [
    "import pandas as pd\n",
    "import numpy as np"
   ]
  },
  {
   "cell_type": "code",
   "execution_count": null,
   "outputs": [],
   "source": [
    "# Create pandas dataframe from csv file\n",
    "df = pd.read_csv('source_dataset/Spotify_Youtube.csv')"
   ],
   "metadata": {
    "collapsed": false,
    "pycharm": {
     "name": "#%%\n"
    }
   }
  },
  {
   "cell_type": "code",
   "execution_count": null,
   "outputs": [],
   "source": [
    "# Shape of dataframe\n",
    "print(df.shape)"
   ],
   "metadata": {
    "collapsed": false,
    "pycharm": {
     "name": "#%%\n"
    }
   }
  },
  {
   "cell_type": "code",
   "execution_count": null,
   "outputs": [],
   "source": [
    "# Convert Unamed column to index and rename to 'id'\n",
    "df = df.rename(columns={'Unnamed: 0': 'id'})\n",
    "df = df.set_index('id')"
   ],
   "metadata": {
    "collapsed": false,
    "pycharm": {
     "name": "#%%\n"
    }
   }
  },
  {
   "cell_type": "code",
   "execution_count": null,
   "outputs": [],
   "source": [
    "# Display the column names\n",
    "print(\"\\nColumn names:\")\n",
    "print(df.columns)"
   ],
   "metadata": {
    "collapsed": false,
    "pycharm": {
     "name": "#%%\n"
    }
   }
  },
  {
   "cell_type": "code",
   "execution_count": null,
   "outputs": [],
   "source": [
    "# Display the first 5 rows\n",
    "print(\"\\nFirst 5 rows:\")\n",
    "print(df.head())"
   ],
   "metadata": {
    "collapsed": false,
    "pycharm": {
     "name": "#%%\n"
    }
   }
  },
  {
   "cell_type": "code",
   "execution_count": null,
   "outputs": [],
   "source": [
    "# Display the data types of each column\n",
    "print(\"\\nData types:\")\n",
    "print(df.dtypes)"
   ],
   "metadata": {
    "collapsed": false,
    "pycharm": {
     "name": "#%%\n"
    }
   }
  },
  {
   "cell_type": "code",
   "execution_count": null,
   "outputs": [],
   "source": [
    "print(\"\\nNumber of unique values:\")\n",
    "print(df.nunique())\n",
    "# Drop rows with missing values in 'Likes' or 'Views' columns\n",
    "df = df.dropna(subset=['Likes', 'Views'])"
   ],
   "metadata": {
    "collapsed": false,
    "pycharm": {
     "name": "#%%\n"
    }
   }
  },
  {
   "cell_type": "markdown",
   "source": [
    "Create popularity categories"
   ],
   "metadata": {
    "collapsed": false,
    "pycharm": {
     "name": "#%% md\n"
    }
   }
  },
  {
   "cell_type": "code",
   "execution_count": null,
   "outputs": [],
   "source": [
    "\n",
    "# Drop rows with missing values in 'Likes' or 'Views' columns\n",
    "df = df.dropna(subset=['Likes', 'Views'])\n",
    "\n",
    "# Calculate normalized popularity score\n",
    "normalized_likes = (df['Likes'] - df['Likes'].min()) / (df['Likes'].max() - df['Likes'].min())\n",
    "normalized_views = (df['Views'] - df['Views'].min()) / (df['Views'].max() - df['Views'].min())\n",
    "\n",
    "# Assign weights to normalized likes and views\n",
    "likes_weight = 0.7\n",
    "views_weight = 0.3\n",
    "\n",
    "# Calculate popularity score\n",
    "popularity_score = (normalized_likes * likes_weight) + (normalized_views * views_weight)\n",
    "\n",
    "# Define popularity class thresholds\n",
    "popularity_thresholds = np.percentile(popularity_score, [0, 30, 70, 90])\n",
    "\n",
    "# Assign popularity class based on popularity score\n",
    "popularity_labels = ['Low Popularity', 'Moderate Popularity', 'High Popularity', 'Very High Popularity']\n",
    "popularity = np.select(\n",
    "    [popularity_score <= popularity_thresholds[1],\n",
    "     popularity_score <= popularity_thresholds[2],\n",
    "     popularity_score <= popularity_thresholds[3],\n",
    "     popularity_score > popularity_thresholds[3]],\n",
    "    popularity_labels, default=popularity_labels[-1])\n",
    "\n",
    "# Add new columns to the DataFrame\n",
    "df['Popularity Score'] = popularity_score\n",
    "df['Popularity'] = popularity"
   ],
   "metadata": {
    "collapsed": false,
    "pycharm": {
     "name": "#%%\n"
    }
   }
  },
  {
   "cell_type": "code",
   "execution_count": null,
   "outputs": [],
   "source": [
    "# Display the data types of each column\n",
    "print(\"\\nData types:\")\n",
    "print(df.dtypes)"
   ],
   "metadata": {
    "collapsed": false,
    "pycharm": {
     "name": "#%%\n"
    }
   }
  },
  {
   "cell_type": "code",
   "execution_count": null,
   "outputs": [],
   "source": [
    "print(df['Popularity'].value_counts())"
   ],
   "metadata": {
    "collapsed": false,
    "pycharm": {
     "name": "#%%\n"
    }
   }
  },
  {
   "cell_type": "code",
   "execution_count": null,
   "outputs": [],
   "source": [
    "# Download the dataframe as a csv file\n",
    "df.to_csv('datasets/Spotify_YoutubeClean.csv')"
   ],
   "metadata": {
    "collapsed": false,
    "pycharm": {
     "name": "#%%\n"
    }
   }
  }
 ],
 "metadata": {
  "kernelspec": {
   "display_name": "Python 3 (ipykernel)",
   "language": "python",
   "name": "python3"
  },
  "language_info": {
   "codemirror_mode": {
    "name": "ipython",
    "version": 3
   },
   "file_extension": ".py",
   "mimetype": "text/x-python",
   "name": "python",
   "nbconvert_exporter": "python",
   "pygments_lexer": "ipython3",
   "version": "3.10.6"
  }
 },
 "nbformat": 4,
 "nbformat_minor": 2
}