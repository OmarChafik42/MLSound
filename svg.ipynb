{
 "cells": [
  {
   "cell_type": "code",
   "execution_count": 8,
   "metadata": {},
   "outputs": [],
   "source": [
    "import pandas as pd\n",
    "from sklearn import svm\n",
    "from sklearn.model_selection import cross_val_score, train_test_split\n",
    "from sklearn.preprocessing import LabelEncoder, StandardScaler\n",
    "from sklearn.metrics import classification_report"
   ]
  },
  {
   "cell_type": "code",
   "execution_count": 9,
   "metadata": {},
   "outputs": [],
   "source": [
    "# Read the data\n",
    "df = pd.read_csv('datasets/Spotify_YoutubeClean.csv')\n",
    "df = df.set_index('id')\n",
    "df = df.dropna()\n",
    "# Drop columns that are not needed\n",
    "df = df.drop(['Artist', 'Url_spotify', 'Track', 'Album', 'Uri', 'Url_youtube', 'Title', 'Channel', 'Views', 'Likes', 'Comments', 'Description', 'Stream', 'Popularity Score'], axis=1)"
   ]
  },
  {
   "cell_type": "code",
   "execution_count": 10,
   "metadata": {},
   "outputs": [],
   "source": [
    "# Separate features X and target y\n",
    "X = df.drop('Popularity', axis=1)\n",
    "y = df['Popularity']"
   ]
  },
  {
   "cell_type": "code",
   "execution_count": 11,
   "metadata": {},
   "outputs": [],
   "source": [
    "# label encoding for categorical variables\n",
    "label_encoder = LabelEncoder()\n",
    "X[\"Album_type\"] = label_encoder.fit_transform(X[\"Album_type\"])\n",
    "X[\"Licensed\"] = label_encoder.fit_transform(X[\"Licensed\"])\n",
    "X[\"official_video\"] = label_encoder.fit_transform(X[\"official_video\"])\n",
    "\n",
    "# scaling for numerical features\n",
    "scaler = StandardScaler()\n",
    "X_scaled = scaler.fit_transform(X)"
   ]
  },
  {
   "cell_type": "code",
   "execution_count": 12,
   "metadata": {},
   "outputs": [],
   "source": [
    "# Data split\n",
    "\n",
    "X_train, X_test, y_train, y_test = train_test_split(X_scaled, y, test_size=0.2, random_state=42)"
   ]
  },
  {
   "cell_type": "code",
   "execution_count": 13,
   "metadata": {},
   "outputs": [
    {
     "name": "stdout",
     "output_type": "stream",
     "text": [
      "Cross-Validation Scores:\n",
      "[0.48663625 0.47636127 0.48190414 0.47994783 0.47896968]\n",
      "\n",
      "Classification Report:\n",
      "              precision    recall  f1-score   support\n",
      "\n",
      " Not popular       0.59      0.49      0.53      1086\n",
      "     Popular       0.86      0.01      0.01       796\n",
      "     Regular       0.43      0.82      0.57      1551\n",
      "Very popular       1.00      0.00      0.00       401\n",
      "\n",
      "    accuracy                           0.47      3834\n",
      "   macro avg       0.72      0.33      0.28      3834\n",
      "weighted avg       0.63      0.47      0.38      3834\n",
      "\n"
     ]
    }
   ],
   "source": [
    "# Create  SVM classifier\n",
    "svm_classifier = svm.SVC()\n",
    "\n",
    "# Perform cross-validation\n",
    "cv_scores = cross_val_score(\n",
    "    svm_classifier, X_train, y_train, cv=5, scoring=\"accuracy\"\n",
    ")\n",
    "\n",
    "# Fit the model on the training data\n",
    "svm_classifier.fit(X_train, y_train)\n",
    "\n",
    "# Make predictions on the test set\n",
    "y_pred = svm_classifier.predict(X_test)\n",
    "\n",
    "# Generate the classification report\n",
    "classification_rep = classification_report(y_test, y_pred)\n",
    "\n",
    "# Print the cross-validation scores and classification report\n",
    "print(\"Cross-Validation Scores:\")\n",
    "print(cv_scores)\n",
    "print(\"\\nClassification Report:\")\n",
    "print(classification_rep)"
   ]
  },
  {
   "attachments": {},
   "cell_type": "markdown",
   "metadata": {},
   "source": [
    "Oh maaaaaaaaaaaaaaan"
   ]
  }
 ],
 "metadata": {
  "kernelspec": {
   "display_name": ".venv",
   "language": "python",
   "name": "python3"
  },
  "language_info": {
   "codemirror_mode": {
    "name": "ipython",
    "version": 3
   },
   "file_extension": ".py",
   "mimetype": "text/x-python",
   "name": "python",
   "nbconvert_exporter": "python",
   "pygments_lexer": "ipython3",
   "version": "3.10.6"
  },
  "orig_nbformat": 4
 },
 "nbformat": 4,
 "nbformat_minor": 2
}
