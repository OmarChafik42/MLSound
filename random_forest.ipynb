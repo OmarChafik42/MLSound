{
 "cells": [
  {
   "cell_type": "code",
   "execution_count": 1,
   "metadata": {},
   "outputs": [],
   "source": [
    "import pandas as pd\n",
    "from sklearn.ensemble import RandomForestClassifier\n",
    "from sklearn.model_selection import train_test_split, cross_val_score\n",
    "from sklearn.preprocessing import LabelEncoder\n",
    "from sklearn.preprocessing import OneHotEncoder\n",
    "from sklearn.metrics import classification_report, accuracy_score\n",
    "from sklearn.metrics import f1_score, make_scorer\n",
    "from sklearn.model_selection import GridSearchCV\n",
    "from sklearn.model_selection import StratifiedKFold\n",
    "from sklearn.metrics import balanced_accuracy_score\n",
    "from sklearn.decomposition import PCA\n",
    "import numpy as np\n"
   ]
  },
  {
   "cell_type": "code",
   "execution_count": 2,
   "metadata": {},
   "outputs": [],
   "source": [
    "# Read the data\n",
    "df = pd.read_csv('datasets/Spotify_YoutubeClean.csv')\n",
    "df = df.set_index('id')\n",
    "df = df.dropna()\n",
    "\n",
    "# Drop columns that are not needed\n",
    "df = df.drop(['Views', 'Likes', 'Comments','Stream'], axis=1)"
   ]
  },
  {
   "cell_type": "code",
   "execution_count": 3,
   "metadata": {},
   "outputs": [],
   "source": [
    "# Separate features X and target y\n",
    "X = df.drop('Popularity', axis=1)\n",
    "y = df['Popularity']"
   ]
  },
  {
   "cell_type": "code",
   "execution_count": 4,
   "metadata": {},
   "outputs": [],
   "source": [
    "# One-hot encoding of categorical variables\n",
    "one_hot_encoder = OneHotEncoder(sparse_output=False)\n",
    "one_hot_encoded = one_hot_encoder.fit_transform(X[['Album_type', 'Licensed', 'official_video']])\n",
    "\n",
    "# Create DataFrame with one-hot encoded columns\n",
    "one_hot_df = pd.DataFrame(one_hot_encoded, columns=one_hot_encoder.get_feature_names_out(['Album_type', 'Licensed', 'official_video']))\n",
    "\n",
    "# Reset index of both DataFrames\n",
    "X = X.reset_index(drop=True)\n",
    "one_hot_df = one_hot_df.reset_index(drop=True)\n",
    "\n",
    "# Concatenate one-hot encoded columns with original DataFrame\n",
    "X_encoded = pd.concat([X, one_hot_df], axis=1)\n",
    "\n",
    "# Drop original categorical columns\n",
    "X_encoded = X_encoded.drop(['Album_type', 'Licensed', 'official_video'], axis=1)\n"
   ]
  },
  {
   "cell_type": "code",
   "execution_count": 5,
   "metadata": {},
   "outputs": [],
   "source": [
    "# Split the data into train and test sets\n",
    "X_train, X_test, y_train, y_test = train_test_split(X_encoded, y, test_size=0.2, random_state=42)"
   ]
  },
  {
   "cell_type": "code",
   "execution_count": 6,
   "metadata": {},
   "outputs": [
    {
     "name": "stdout",
     "output_type": "stream",
     "text": [
      "Best Parameters: {'max_depth': 20, 'n_estimators': 200}\n",
      "Accuracy: 0.5867007672634271\n",
      "Classification Report:\n",
      "               precision    recall  f1-score   support\n",
      "\n",
      "           0       0.51      0.36      0.42       806\n",
      "           1       0.64      0.65      0.64      1116\n",
      "           2       0.57      0.66      0.61      1612\n",
      "           3       0.67      0.56      0.61       376\n",
      "\n",
      "    accuracy                           0.59      3910\n",
      "   macro avg       0.59      0.56      0.57      3910\n",
      "weighted avg       0.58      0.59      0.58      3910\n",
      "\n"
     ]
    }
   ],
   "source": [
    "# Define parameter grid for my hyperparameter tuning\n",
    "param_grid = {\n",
    "    'n_estimators': [10, 50, 100, 200],\n",
    "    'max_depth': [None, 10, 20, 30]\n",
    "}\n",
    "\n",
    "# Perform grid search\n",
    "grid_search = GridSearchCV(RandomForestClassifier(random_state=42), param_grid, cv=5)\n",
    "grid_search.fit(X_train, y_train)\n",
    "\n",
    "# Print best parameters\n",
    "print(\"Best Parameters:\", grid_search.best_params_)\n",
    "\n",
    "# Create RF with best parameters\n",
    "rf_classifier = RandomForestClassifier(random_state=42, **grid_search.best_params_)\n",
    "\n",
    "# Train the classifier\n",
    "rf_classifier.fit(X_train, y_train)\n",
    "\n",
    "# Predict on the test set\n",
    "y_pred = rf_classifier.predict(X_test)\n",
    "\n",
    "# Evaluate the performance\n",
    "accuracy = accuracy_score(y_test, y_pred)\n",
    "classification_report = classification_report(y_test, y_pred)\n",
    "\n",
    "print(\"Accuracy:\", accuracy)\n",
    "print(\"Classification Report:\\n\", classification_report)\n"
   ]
  },
  {
   "cell_type": "code",
   "execution_count": 7,
   "metadata": {},
   "outputs": [
    {
     "name": "stdout",
     "output_type": "stream",
     "text": [
      "Cross-Validation Scores: [0.5719463  0.54758876 0.5583687  0.55607375 0.57754311]\n",
      "Mean Cross-Validation Score: 0.562304123395087\n"
     ]
    }
   ],
   "source": [
    "# Define evaluation metric\n",
    "scoring = make_scorer(balanced_accuracy_score)\n",
    "\n",
    "# Perform stratified cross-validation\n",
    "cv = StratifiedKFold(n_splits=5, shuffle=True, random_state=42)\n",
    "cv_scores = cross_val_score(rf_classifier, X_encoded, y, cv=cv, scoring=scoring)\n",
    "\n",
    "print(\"Cross-Validation Scores:\", cv_scores)\n",
    "print(\"Mean Cross-Validation Score:\", cv_scores.mean())\n",
    "\n",
    "\n"
   ]
  },
  {
   "cell_type": "code",
   "execution_count": 8,
   "metadata": {},
   "outputs": [
    {
     "name": "stdout",
     "output_type": "stream",
     "text": [
      "                   feature  importance\n",
      "11       Artist_Popularity    0.212111\n",
      "10             Duration_ms    0.079722\n",
      "3                 Loudness    0.074937\n",
      "5             Acousticness    0.067852\n",
      "0             Danceability    0.067328\n",
      "1                   Energy    0.067185\n",
      "4              Speechiness    0.066982\n",
      "8                  Valence    0.066879\n",
      "9                    Tempo    0.066541\n",
      "7                 Liveness    0.064652\n",
      "6         Instrumentalness    0.048919\n",
      "2                      Key    0.040138\n",
      "17    official_video_False    0.021767\n",
      "18     official_video_True    0.016093\n",
      "15          Licensed_False    0.010973\n",
      "16           Licensed_True    0.010426\n",
      "14       Album_type_single    0.007821\n",
      "12        Album_type_album    0.006978\n",
      "13  Album_type_compilation    0.002696\n"
     ]
    },
    {
     "data": {
      "image/png": "[encoded data removed]",
      "text/plain": [
       "<Figure size 640x480 with 1 Axes>"
      ]
     },
     "metadata": {},
     "output_type": "display_data"
    },
    {
     "name": "stdout",
     "output_type": "stream",
     "text": [
      "Best Parameters: {'max_depth': None, 'n_estimators': 200}\n",
      "Threshold: 0.01\n",
      "Accuracy: 0.5867007672634271\n",
      "Classification Report:\n",
      "               precision    recall  f1-score   support\n",
      "\n",
      "           0       0.51      0.38      0.43       806\n",
      "           1       0.63      0.65      0.64      1116\n",
      "           2       0.57      0.65      0.61      1612\n",
      "           3       0.66      0.58      0.62       376\n",
      "\n",
      "    accuracy                           0.59      3910\n",
      "   macro avg       0.59      0.57      0.58      3910\n",
      "weighted avg       0.58      0.59      0.58      3910\n",
      "\n",
      "Best Parameters: {'max_depth': 30, 'n_estimators': 200}\n",
      "Threshold: 0.02\n",
      "Accuracy: 0.5818414322250639\n",
      "Classification Report:\n",
      "               precision    recall  f1-score   support\n",
      "\n",
      "           0       0.49      0.36      0.41       806\n",
      "           1       0.64      0.65      0.64      1116\n",
      "           2       0.57      0.65      0.61      1612\n",
      "           3       0.64      0.57      0.60       376\n",
      "\n",
      "    accuracy                           0.58      3910\n",
      "   macro avg       0.58      0.56      0.57      3910\n",
      "weighted avg       0.58      0.58      0.58      3910\n",
      "\n",
      "Best Parameters: {'max_depth': None, 'n_estimators': 200}\n",
      "Threshold: 0.03\n",
      "Accuracy: 0.5672634271099745\n",
      "Classification Report:\n",
      "               precision    recall  f1-score   support\n",
      "\n",
      "           0       0.47      0.38      0.42       806\n",
      "           1       0.67      0.51      0.58      1116\n",
      "           2       0.55      0.70      0.61      1612\n",
      "           3       0.61      0.57      0.59       376\n",
      "\n",
      "    accuracy                           0.57      3910\n",
      "   macro avg       0.58      0.54      0.55      3910\n",
      "weighted avg       0.57      0.57      0.56      3910\n",
      "\n"
     ]
    }
   ],
   "source": [
    "from sklearn.metrics import accuracy_score, classification_report\n",
    "import matplotlib.pyplot as plt\n",
    "\n",
    "# Get feature importances\n",
    "importances = rf_classifier.feature_importances_\n",
    "\n",
    "# Get feature names\n",
    "feature_names = X_train.columns\n",
    "\n",
    "# Create a DataFrame to store the feature importances\n",
    "importance_df = pd.DataFrame({'feature': feature_names, 'importance': importances})\n",
    "\n",
    "# Sort the DataFrame by importance in descending order\n",
    "importance_df = importance_df.sort_values('importance', ascending=False)\n",
    "\n",
    "# Display the DataFrame\n",
    "print(importance_df)\n",
    "\n",
    "# Create a bar chart to visualize feature importances (to do further feature selection)\n",
    "plt.barh(importance_df['feature'], importance_df['importance'])\n",
    "plt.xlabel('Importance')\n",
    "plt.ylabel('Feature')\n",
    "plt.title('Feature Importances')\n",
    "plt.show()\n",
    "\n",
    "# Set the range of threshold values to try\n",
    "thresholds = [0.01, 0.02, 0.03, 0.04, 0.05]\n",
    "\n",
    "# Loop over the threshold values\n",
    "for threshold in thresholds:\n",
    "    # Create a mask to select only the features with importance greater than or equal to the threshold\n",
    "    mask = importances >= threshold\n",
    "\n",
    "    # Apply the mask to the feature names to get the selected features\n",
    "    selected_features = feature_names[mask]\n",
    "\n",
    "    # Define parameter grid for hyperparameter tuning\n",
    "    param_grid = {\n",
    "        'n_estimators': [10, 50, 100, 200],\n",
    "        'max_depth': [None, 10, 20, 30]\n",
    "    }\n",
    "\n",
    "    # Perform grid search using only the selected features\n",
    "    grid_search = GridSearchCV(RandomForestClassifier(random_state=42), param_grid, cv=5)\n",
    "    grid_search.fit(X_train[selected_features], y_train)\n",
    "\n",
    "    # Print best parameters\n",
    "    print(\"Best Parameters:\", grid_search.best_params_)\n",
    "\n",
    "    # Create RF with best parameters\n",
    "    rf_classifier = RandomForestClassifier(random_state=42, **grid_search.best_params_)\n",
    "\n",
    "    # Retrain the model using only the selected features\n",
    "    rf_classifier.fit(X_train[selected_features], y_train)\n",
    "\n",
    "    # Predict on the test set using only the selected features\n",
    "    y_pred = rf_classifier.predict(X_test[selected_features])\n",
    "\n",
    "    # Evaluate the performance of the new model\n",
    "    accuracy = accuracy_score(y_test, y_pred)\n",
    "    report = classification_report(y_test, y_pred)\n",
    "\n",
    "    print(\"Threshold:\", threshold)\n",
    "    print(\"Accuracy:\", accuracy)\n",
    "    print(\"Classification Report:\\n\", report)\n"
   ]
  }
 ],
 "metadata": {
  "kernelspec": {
   "display_name": ".venv",
   "language": "python",
   "name": "python3"
  },
  "language_info": {
   "codemirror_mode": {
    "name": "ipython",
    "version": 3
   },
   "file_extension": ".py",
   "mimetype": "text/x-python",
   "name": "python",
   "nbconvert_exporter": "python",
   "pygments_lexer": "ipython3",
   "version": "3.10.4"
  },
  "orig_nbformat": 4
 },
 "nbformat": 4,
 "nbformat_minor": 2
}
